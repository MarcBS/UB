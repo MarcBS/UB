{
 "cells": [
  {
   "cell_type": "markdown",
   "metadata": {
    "collapsed": true
   },
   "source": [
    "<div align=\"right\">Alejandro Cartas 21 Octuber 2015</div>\n",
    "\n",
    "# Getting started with Caffe on Docker environment\n",
    "\n",
    "## What is a Deep Learning programming framework?\n",
    "\n",
    "Is a combination of specialized hardware and software to create and train Deep Learning networks. The framework stack shown below corresponds to the GPU stack and some components are optional. In this guide we will use a CPU stack.\n",
    "\n",
    "![Deep Learning Framework Stack](software-hardware-deepLearningStack.png \"Deep Learning Framework Stack\")\n",
    "*Adapted figure from [Nvidia courseware](https://developer.nvidia.com/deep-learning-courses).*\n",
    "\n",
    "## Why use Caffe?\n",
    "\n",
    "Every Deep Learning framework has its advantages and its drawbacks. I'll use Caffe mainly because it seems to be more out-of-the-box than Theano. But many researchers prefer Theano because of its detailed programming level. See a Reddit discussion on a *Best framework for Deep Neural Nets?* at [https://www.reddit.com/comments/2c9x0s](https://www.reddit.com/comments/2c9x0s).\n",
    "\n",
    "![GPU-Accelarated Deep Learning Frameworks](nvidiaFramewokComparisonTable.png \"GPU-Accelarated Deep Learning Frameworks\")\n",
    "*Deep learning frameworks comparison table from [Nvidia courseware](https://developer.nvidia.com/deep-learning-courses).*\n",
    "\n",
    "## Why use Caffe on a Docker container?\n",
    "\n",
    "Perhaps is the easiest and fastest way to get started with Caffe without breaking your system and your nerves.\n",
    "\n",
    "## Setup\n",
    "\n",
    "**1. Install VirtualBox and Docker.** Docker is a container that holds an entire OS and runs over a virtual machine, in this case it is VirtualBox. Some Docker installation packages already contain a VirtualBox inside, but you can download VirtualBox for free at [https://www.virtualbox.org/wiki/Downloads](https://www.virtualbox.org/wiki/Downloads). Additionally, a detailed and easy guide for installing Docker on your system can be found here [https://docs.docker.com/installation/](https://docs.docker.com/installation/).\n",
    "\n",
    "**2. Download and start the Caffe image.** Four different Caffe images for Docker are linked in the official site at [https://github.com/BVLC/caffe/wiki/Installation](https://github.com/BVLC/caffe/wiki/Installation). We will use a stable build of Caffe NoGPU. After running the Docker Terminal we type in the terminal:\n",
    "\n",
    "```bash\n",
    "# Pulling the stable build Caffe (NoGPU) image for Docker\n",
    "docker pull tleyden5iwx/caffe-cpu-master\n",
    "```\n",
    "\t\n",
    "Now, lets start our newly downloaded image:\n",
    "\n",
    "```bash\n",
    "docker run -i -t tleyden5iwx/caffe-cpu-master:latest /bin/bash\n",
    "```\n",
    "\n",
    "We will be logged in our Caffe image with a similar prompt like this one **root@4dabab76fab3:~/caffe#**. The hostname displayed in the prompt corresponds to the *Container ID*, in this case the *4dabab76fab3* is our Container ID. It is important to keep the *Container ID* to commit any changes to the image.\n",
    "\n",
    "**3. Installing the required stuff.**  These steps will install the required packages to have a Jupyter notebook working. (Note that the current user is root).\n",
    "```bash\n",
    "# Updating our system\n",
    "apt-get update &&  apt-get upgrade\n",
    "\t\t\n",
    "# Installing numerical libraries\n",
    "sudo apt-get install liblapack-dev liblapack-doc-man liblapack-doc liblapack-pic liblapack3 liblapack-test liblapack3gf liblapacke liblapacke-dev\n",
    "\n",
    "# Installing Python's pip and Jupyter\n",
    "apt-get install python-pip python-numpy python-scipy python-matplotlib python-pandas python-sympy python-nose libatlas3gf-base python-sklearn python-yaml nano\n",
    "pip install jupyter\t\n",
    "```\n",
    "                   \t\t \n",
    "## Getting started with LeNet on MNIST dataset\n",
    "\n",
    "<span style=\"color:red;font-weight:bold\">IMPORTANT NOTE: A walkthrough guide of the LeNet network can be found on</span> **[https://github.com/BVLC/caffe/blob/master/examples/01-learning-lenet.ipynb](https://github.com/BVLC/caffe/blob/master/examples/01-learning-lenet.ipynb)**. <span style=\"color:red;font-weight:bold\">So if you pretend to follow the other guide, you can simply do the second and third steps of this section and skip the rest.</span>\n",
    "\t \n",
    "**1. Training the LeNet network.**\n",
    "\n",
    "```bash\n",
    "# Going to the Caffe directory\n",
    "cd /opt/caffe\n",
    " \n",
    "# Downloading the MNIST dataset\n",
    "./data/mnist/get_mnist.sh \n",
    " \n",
    "# Converts the data into lmdb/leveldb format (Calls a C++ binary that does the dirty job)\n",
    "./examples/mnist/create_mnist.sh\n",
    "```\n",
    "\n",
    "*An error reporting that **libdc1394 error: Failed to initialize libdc1394** can appeared. You don't have to worry about this error since it seems to be related with the Docker image itself. A *\"solution\"* can be found [here](http://stackoverflow.com/questions/12689304/ctypes-error-libdc1394-error-failed-to-initialize-libdc1394).*\n",
    "\n",
    "Since we are using only the CPU, we must do something before training the model. We have to replace the line *solver_mode: GPU* for *solver_mode: CPU* in the ** lenet_solver.prototxt ** file. We can do this as follows\n",
    "\n",
    "```bash\n",
    "sed -i 's/solver_mode: GPU/solver_mode: CPU/' examples/mnist/lenet_solver.prototxt\n",
    "```\n",
    "\n",
    "Now lets train the model by doing\n",
    "\n",
    "```bash\n",
    "./build/tools/caffe train --solver=examples/mnist/lenet_solver.prototxt\n",
    "```\n",
    "\n",
    "This will take a few minutes and will output logging messages. When it is done training the model, it will create the files **lenet_iter_10000.caffemodel** and **lenet_iter_10000.solverstate** on the *examples/mnist/* directory.\n",
    "\n",
    "**2. Saving the container image.** Now we should logout the current running image and save it. We can logout the image by typing *exit* and hitting enter or by pressing **Ctrl+D**. We can save the image using the Container ID we got in step 3.\n",
    "\n",
    "```bash\n",
    "docker commit -m \"Setup completed\" 4dabab76fab3 tleyden5iwx/caffe-cpu-master:v1\n",
    "```\n",
    "\n",
    "**3. Running Jupyter notebook.**  We can simply call a Jupyter notebook using the next command:\n",
    "\n",
    "```bash\n",
    "docker run -i -p 8888:8888 -t tleyden5iwx/caffe-cpu-master:v1 /bin/bash -c 'cd /opt/caffe && jupyter notebook --port=8888 --ip=\"*\" --no-browser'\n",
    "```\n",
    "<span style=\"color:red;font-weight:bold\">Note that this opens a Jupyter notebook session to everybody and could be a security concern.</span>\n",
    "\n",
    "Now we can open the notebook on any browser using the assigned ip address to Docker. We can find its ip by typing on the terminal:\n",
    "\n",
    "```bash\n",
    "docker-machine ip default\n",
    "```\n",
    "\n",
    "While writing this guide my Docker ip was 192.168.99.100, so Jupyter can be accessed on [http://192.168.99.100:8888](http://192.168.99.100:8888).\n",
    "\n",
    "**4. Trying some MNIST test examples.** After creating a Jupyter notebook on our Docker machine, we have to do the usual setup stuff:"
   ]
  },
  {
   "cell_type": "code",
   "execution_count": 1,
   "metadata": {
    "collapsed": false
   },
   "outputs": [],
   "source": [
    "import caffe\n",
    "\n",
    "import matplotlib.pyplot as plt\n",
    "import matplotlib.ticker as plticker\n",
    "import matplotlib as mpl\n",
    "import numpy as np\n",
    "import os\n",
    "import struct\n",
    "\n",
    "%matplotlib inline"
   ]
  },
  {
   "cell_type": "markdown",
   "metadata": {
    "collapsed": false
   },
   "source": [
    "Since the digits of the MNIST were stored in a special format, we need to load them:"
   ]
  },
  {
   "cell_type": "code",
   "execution_count": 2,
   "metadata": {
    "collapsed": false
   },
   "outputs": [],
   "source": [
    "# Function adapted from https://gist.github.com/akesling/5358964.\n",
    "def load_mnist_test_data(path = \".\"):\n",
    "\n",
    "    fname_img = os.path.join(path, 't10k-images-idx3-ubyte')\n",
    "    fname_lbl = os.path.join(path, 't10k-labels-idx1-ubyte')\n",
    "\n",
    "    # Load everything in some numpy arrays\n",
    "    with open(fname_lbl, 'rb') as flbl:\n",
    "        magic, num = struct.unpack(\">II\", flbl.read(8))\n",
    "        lbl = np.fromfile(flbl, dtype=np.int8)\n",
    "\n",
    "    with open(fname_img, 'rb') as fimg:\n",
    "        magic, num, rows, cols = struct.unpack(\">IIII\", fimg.read(16))\n",
    "        img = np.fromfile(fimg, dtype=np.uint8).reshape(len(lbl), rows, cols)\n",
    "\n",
    "    get_img = lambda idx: (lbl[idx], np.reshape(img[idx], (28,28,1)))\n",
    "\n",
    "    # Create an iterator which returns each image in turn\n",
    "    for i in xrange(len(lbl)):\n",
    "        yield get_img(i)\n",
    "        \n",
    "test_set=load_mnist_test_data(\"/opt/caffe/data/mnist/\")"
   ]
  },
  {
   "cell_type": "markdown",
   "metadata": {
    "collapsed": true
   },
   "source": [
    "Now we can visualize one by one as follows (<span style=\"color:red;font-style:italic;\">Please note that the grayscale is inverse plotted</span>):"
   ]
  },
  {
   "cell_type": "code",
   "execution_count": 3,
   "metadata": {
    "collapsed": false
   },
   "outputs": [
    {
     "data": {
      "image/png": "[encoded data removed]",
      "text/plain": [
       "<matplotlib.figure.Figure at 0x7f661bcdd610>"
      ]
     },
     "metadata": {},
     "output_type": "display_data"
    }
   ],
   "source": [
    "def plot_mnist_digit(image, title=None):\n",
    "    fig = plt.figure()\n",
    "    ax = fig.add_subplot(1,1,1)\n",
    "        \n",
    "    imgplot = ax.imshow(image[:,:,0], cmap=mpl.cm.Greys)\n",
    "    imgplot.set_interpolation('nearest')\n",
    "    ax.xaxis.set_ticks_position('bottom')\n",
    "    ax.yaxis.set_ticks_position('left')\n",
    "                                  \n",
    "    major_ticks = np.arange(0, 29, 7)                                              \n",
    "    minor_ticks = np.arange(0, 28, 1)                                               \n",
    "\n",
    "    ax.set_xticks(major_ticks)                                                       \n",
    "    ax.set_xticks(minor_ticks, minor=True)                                           \n",
    "    ax.set_yticks(major_ticks)                                                       \n",
    "    ax.set_yticks(minor_ticks, minor=True)                                           \n",
    "\n",
    "#     ax.grid(which='both',color='gray', linestyle='-',linewidth=0.5)\n",
    "    \n",
    "    if not title == None:\n",
    "        plt.title(title, fontsize=15) \n",
    "    plt.show()\n",
    "        \n",
    "digit = next(test_set)\n",
    "label = digit[0]; image = digit[1]\n",
    "plot_mnist_digit(image, \"LABEL: \" + str(label))"
   ]
  },
  {
   "cell_type": "markdown",
   "metadata": {},
   "source": [
    "Now we can do some predictions using our trained LeNet model"
   ]
  },
  {
   "cell_type": "code",
   "execution_count": 4,
   "metadata": {
    "collapsed": false
   },
   "outputs": [
    {
     "data": {
      "image/png": "[encoded data removed]",
      "text/plain": [
       "<matplotlib.figure.Figure at 0x7f6628cabd90>"
      ]
     },
     "metadata": {},
     "output_type": "display_data"
    },
    {
     "data": {
      "image/png": "[encoded data removed]",
      "text/plain": [
       "<matplotlib.figure.Figure at 0x7f661aed8610>"
      ]
     },
     "metadata": {},
     "output_type": "display_data"
    },
    {
     "data": {
      "image/png": "[encoded data removed]",
      "text/plain": [
       "<matplotlib.figure.Figure at 0x7f661ade8890>"
      ]
     },
     "metadata": {},
     "output_type": "display_data"
    },
    {
     "data": {
      "image/png": "[encoded data removed]",
      "text/plain": [
       "<matplotlib.figure.Figure at 0x7f661ae47a10>"
      ]
     },
     "metadata": {},
     "output_type": "display_data"
    },
    {
     "data": {
      "image/png": "[encoded data removed]",
      "text/plain": [
       "<matplotlib.figure.Figure at 0x7f661aeadbd0>"
      ]
     },
     "metadata": {},
     "output_type": "display_data"
    }
   ],
   "source": [
    "# Creating our trained classifier\n",
    "classifier = caffe.Classifier('/opt/caffe/examples/mnist/lenet.prototxt', \n",
    "                              '/opt/caffe/examples/mnist/lenet_iter_10000.caffemodel')\n",
    "\n",
    "for i in xrange(5):\n",
    "    digit = next(test_set)\n",
    "    label = digit[0]; image = digit[1]\n",
    "    \n",
    "    prediction = classifier.predict([image], oversample=False)\n",
    "    \n",
    "    predicted_label=np.argmax(prediction)    \n",
    "    plot_mnist_digit(image, \"LABEL: \" + str(label) + \" PREDICTED LABEL: \"+ str(predicted_label))"
   ]
  },
  {
   "cell_type": "markdown",
   "metadata": {
    "collapsed": true
   },
   "source": [
    "## Useful resources\n",
    "\n",
    "* Walkthrough examples can be found on [https://github.com/BVLC/caffe/tree/master/examples](https://github.com/BVLC/caffe/tree/master/examples).\n",
    "* I used some steps from this guide [http://radar.oreilly.com/2014/07/how-to-build-and-run-your-first-deep-learning-network.html](http://radar.oreilly.com/2014/07/how-to-build-and-run-your-first-deep-learning-network.html).\n",
    "* Docker cheatsheet [https://github.com/wsargent/docker-cheat-sheet](https://github.com/wsargent/docker-cheat-sheet).\n",
    "* The Docker Book by James Turnbull."
   ]
  }
 ],
 "metadata": {
  "kernelspec": {
   "display_name": "Python 2",
   "language": "python",
   "name": "python2"
  },
  "language_info": {
   "codemirror_mode": {
    "name": "ipython",
    "version": 2
   },
   "file_extension": ".py",
   "mimetype": "text/x-python",
   "name": "python",
   "nbconvert_exporter": "python",
   "pygments_lexer": "ipython2",
   "version": "2.7.10"
  }
 },
 "nbformat": 4,
 "nbformat_minor": 0
}
