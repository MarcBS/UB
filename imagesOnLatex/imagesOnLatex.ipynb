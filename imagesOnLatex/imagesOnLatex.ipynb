{
 "cells": [
  {
   "cell_type": "markdown",
   "metadata": {},
   "source": [
    "# Rules about images on $\\LaTeX$\n",
    "##### November 13th 2015\n",
    "\n",
    "Alejandro Cartas\n",
    "\n",
    "## 1.  Use only EPS images, but keep the original sources\n",
    "\n",
    "### What is the EPS image format?\n",
    "An Encapsulated PostScript (EPS) image works as a **container** of vector or raster (pixel) graphic images. It defines how an image should be displayed and includes a low-resolution preview.\n",
    "\n",
    "## 2. Prefer vector over raster graphic images\n",
    "\n",
    "### What is vector graphic image?\n",
    "\n",
    "A vector graphic image is described in terms of primitives such as points, lines, curves, and shapes instead of pixels. Is important to note that *they can contain pixel images inside*.\n",
    "\n",
    "### Why you should use them?\n",
    "\n",
    "There are two main reasons to use them in scientific papers. The first reason is that, if they don't contain pixel images inside, they are unaffected by scale operations. So basically they look great at any size, for instance, the figure below shows this difference."
   ]
  },
  {
   "cell_type": "markdown",
   "metadata": {},
   "source": [
    "<div style=\"width:100%;position:relative;left:50px;\">\n",
    "    <div style=\"width:55%;float:left;position:relative;margin-top:30px;\">\n",
    "        <img src=\"xicara_30dpi.png\">\n",
    "        <div style=\"width:100%;text-align:center;\">a) Photorealistic image of a cup of tea originally from a SVG file from OpenClipArt.</div>    \n",
    "    </div>\n",
    "    <div style=\"width:35%;float:left;\">\n",
    "        <img src=\"cropped_xicara_150dpi.png\" style=\"width:331px;height:234px;\">\n",
    "        <div style=\"width:100%;text-align:center;\">b) Zoom as seen as a vector graphic.</div>\n",
    "        <img src=\"cropped_xicara_25dpi.png\" style=\"width:331px;height:234px;\">\n",
    "        <div style=\"width:100%;text-align:center;\">c) Zoom as seen as a raster graphic.</div>\n",
    "    </div>    \n",
    "</div>"
   ]
  },
  {
   "cell_type": "markdown",
   "metadata": {},
   "source": [
    "**Fig. 1**. Difference between vector and raster graphic images. Note that in this example is better to show the images as PNG rather than SVG because of its renderization."
   ]
  },
  {
   "cell_type": "markdown",
   "metadata": {},
   "source": [
    "The second reason is that anyone can easily ~~recycle~~ reuse this kind of images and cite your work. You can extract and edit this images from a PDF file using free software such as [Scribus](http://www.scribus.net/) and [Inkscape](https://inkscape.org) or use Illustrator."
   ]
  },
  {
   "cell_type": "markdown",
   "metadata": {},
   "source": [
    "<div style=\"position:relative;left:-40px;\">\n",
    "    <img src=\"deepArchitecture.png\" width=\"90%\" height=\"90%\">\n",
    "</div>\n",
    "<div style=\"width:100%;text-align:center;\"><b>Fig. 2</b>. An image extracted from Joshua Bengio's slides that was easily set horizontal and translated to spanish using Inkscape.</div>"
   ]
  },
  {
   "cell_type": "markdown",
   "metadata": {},
   "source": [
    "## 3. Plot's makeup is done in its original source\n",
    "\n",
    "All respectable languages such as Matlab, R, and Python can export plots as vector EPS images. It is better for you to add details to any plot on its source language instead of using Inkscape or Illustrator. You can save a lot of time by following this rule. Some of the languages can even handle $\\LaTeX$ text labels. For instance, the next code export the displayed plot to EPS."
   ]
  },
  {
   "cell_type": "code",
   "execution_count": 1,
   "metadata": {
    "collapsed": false
   },
   "outputs": [
    {
     "data": {
      "image/png": "[encoded data removed]",
      "text/plain": [
       "<matplotlib.figure.Figure at 0x10908d550>"
      ]
     },
     "metadata": {},
     "output_type": "display_data"
    }
   ],
   "source": [
    "# Adapted from http://matplotlib.org/users/pyplot_tutorial.html\n",
    "\n",
    "import numpy as np\n",
    "import matplotlib.pyplot as plt\n",
    "%matplotlib inline\n",
    "\n",
    "mu, sigma = 100, 15\n",
    "x = mu + sigma * np.random.randn(10000)\n",
    "\n",
    "# the histogram of the data\n",
    "n, bins, patches = plt.hist(x, 50, normed=1, facecolor='red', alpha=0.75)\n",
    "\n",
    "\n",
    "plt.xlabel('Smarts')\n",
    "plt.ylabel('Probability')\n",
    "plt.title('Histogram of IQ')\n",
    "plt.text(60, .025, r'$\\mu=100,\\ \\sigma=15$', fontsize=14)\n",
    "plt.axis([40, 160, 0, 0.03])\n",
    "plt.grid(True)\n",
    "plt.savefig('plot_example.eps', format='eps', dpi=300)\n",
    "plt.show()"
   ]
  },
  {
   "cell_type": "markdown",
   "metadata": {},
   "source": [
    "## 4. Use tools that minimize the time to create diagrams\n",
    "\n",
    "There are already a lot of tools to create many kinds of diagrams, so don't waste precious time programming them from scratch (PGF/Ti*k*Z) or using a vector image editor (Inkscape). Please notice that this rule highly depends on how skillful you are using the tools at hand. The figure below shows two different kinds of vector diagrams, the one in the left was produced using PGF/Ti*k*Z and the one in the right probably was done using vector image editor."
   ]
  },
  {
   "cell_type": "markdown",
   "metadata": {},
   "source": [
    "<div style=\"width:100%;position:relative;left:50px;\">\n",
    "    <div style=\"width:45%;float:left;position:relative;margin-top:0px;\">\n",
    "        <img src=\"mlp10x4x2.png\" width=\"75%\" height=\"75%\">\n",
    "        <div style=\"width:100%;text-align:center;\">a) Multilayer Perceptron.</div>    \n",
    "    </div>\n",
    "    <div style=\"width:45%;float:left;\">\n",
    "        <img src=\"data-flow.png\" width=\"65%\" height=\"65%\">\n",
    "        <div style=\"width:100%;text-align:center;\">b) Artistic data flow from [Substack](http://substack.net/images/rov-2010/data-flow.svg).</div>\n",
    "    </div>    \n",
    "</div>"
   ]
  },
  {
   "cell_type": "markdown",
   "metadata": {},
   "source": [
    "<div style=\"width:100%;text-align:center;\"><b>Fig. 3</b>. Different kind of diagrams are made using different tools.</div>"
   ]
  },
  {
   "cell_type": "markdown",
   "metadata": {},
   "source": [
    "# Appendix A\n",
    "\n",
    "How to create the vector and raster zoom example.\n",
    "\n",
    "```bash\n",
    "# Downloading the tea cup photorealistic image\n",
    "wget https://openclipart.org/download/224832/xicara.svg\n",
    "\n",
    "# Exporting SVG to PNG format \n",
    "inkscape xicara.svg -e xicara_150dpi.png -d 150\n",
    "inkscape xicara.svg -e xicara_30dpi.png -d 30\n",
    "inkscape xicara.svg -e xicara_25dpi.png -d 25\n",
    "\n",
    "# Cropping image at tea label \n",
    "convert xicara_150dpi.png -crop 810x575+540+1350  cropped_xicara_150dpi.png\n",
    "convert xicara_25dpi.png -crop 135x96+90+225  cropped_xicara_25dpi.png\n",
    "```"
   ]
  }
 ],
 "metadata": {
  "kernelspec": {
   "display_name": "Python 2",
   "language": "python",
   "name": "python2"
  },
  "language_info": {
   "codemirror_mode": {
    "name": "ipython",
    "version": 2
   },
   "file_extension": ".py",
   "mimetype": "text/x-python",
   "name": "python",
   "nbconvert_exporter": "python",
   "pygments_lexer": "ipython2",
   "version": "2.7.10"
  }
 },
 "nbformat": 4,
 "nbformat_minor": 0
}
